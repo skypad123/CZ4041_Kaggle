{
 "cells": [
  {
   "cell_type": "code",
   "execution_count": null,
   "metadata": {},
   "outputs": [],
   "source": [
    "import os\n",
    "\n",
    "#importing libraries\n",
    "import pandas as pd  # data processing, CSV file I/O (e.g. pd.read_csv)\n",
    "import numpy as np # linear algebra\n",
    "from scipy import stats\n",
    "\n",
    "#importing visualisation libraries\n",
    "from matplotlib import pyplot as plt\n",
    "import seaborn as sns\n",
    "\n",
    "#Data splitting\n",
    "from sklearn.model_selection import train_test_split"
   ]
  },
  {
   "cell_type": "code",
   "execution_count": null,
   "metadata": {},
   "outputs": [],
   "source": [
    "# training\n",
    "num_folds = 5\n",
    "test_x = merged_df[len_train:].values\n",
    "all_x = merged_df[:len_train].values\n",
    "all_y = target.values\n",
    "oof_preds = np.zeros([all_y.shape[0]])\n",
    "sub_preds = np.zeros([test_x.shape[0]])\n",
    "folds = KFold(n_splits=num_folds, shuffle=True, random_state=345665)\n",
    "for n_fold, (train_idx, valid_idx) in enumerate(folds.split(all_x)):\n",
    "    train_x, train_y = all_x[train_idx], all_y[train_idx]\n",
    "    valid_x, valid_y = all_x[valid_idx], all_y[valid_idx]\n",
    "    lgb_train = lgb.Dataset(train_x,train_y)\n",
    "    lgb_valid = lgb.Dataset(valid_x,valid_y)\n",
    "\n",
    "    gbm = lgb.train(params, lgb_train, 1000, \n",
    "        valid_sets=[lgb_train, lgb_valid],\n",
    "        early_stopping_rounds=100, verbose_eval=100)\n",
    "    oof_preds[valid_idx] = gbm.predict(valid_x, num_iteration=gbm.best_iteration)\n",
    "    sub_preds[:] += gbm.predict(test_x, num_iteration=gbm.best_iteration) / folds.n_splits\n",
    "    valid_idx += 1\n"
   ]
  }
 ],
 "metadata": {
  "language_info": {
   "name": "python"
  },
  "orig_nbformat": 4
 },
 "nbformat": 4,
 "nbformat_minor": 2
}
